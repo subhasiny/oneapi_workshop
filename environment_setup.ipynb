{
 "cells": [
  {
   "cell_type": "markdown",
   "metadata": {},
   "source": [
    "# Setup opensource Tensorflow environment. This is onetime job"
   ]
  },
  {
   "cell_type": "code",
   "execution_count": null,
   "metadata": {},
   "outputs": [],
   "source": [
    "%%writefile setupenv.sh\n",
    "#remove any old envuronments\n",
    "rm -rf ~/opentf\n",
    "# create virtual environment for opensource TF\n",
    "python -m venv ~/opentf\n",
    "# activate it\n",
    "source ~/opentf/bin/activate\n",
    "# install tensorflow\n",
    "pip install tensorflow==2.3.1 \n",
    "# install openvino dependencies\n",
    "pip install networkx test-generator defusedxml\n",
    "# check tensorflow version\n",
    "python -c \"import tensorflow; print('Tensorflow ',tensorflow.__version__, 'installed successfully')\"\n",
    "# deactivate the virtual environment\n",
    "deactivate"
   ]
  },
  {
   "cell_type": "markdown",
   "metadata": {},
   "source": [
    "### check the content of setupenv.sh"
   ]
  },
  {
   "cell_type": "code",
   "execution_count": null,
   "metadata": {},
   "outputs": [],
   "source": [
    "!cat setupenv.sh"
   ]
  },
  {
   "cell_type": "markdown",
   "metadata": {},
   "source": [
    "### Submit the job to the queue"
   ]
  },
  {
   "cell_type": "code",
   "execution_count": null,
   "metadata": {},
   "outputs": [],
   "source": [
    "!qsub setupenv.sh -l nodes=1:clx:ppn=2 -d ."
   ]
  },
  {
   "cell_type": "markdown",
   "metadata": {},
   "source": [
    "### Check the queue status "
   ]
  },
  {
   "cell_type": "code",
   "execution_count": null,
   "metadata": {},
   "outputs": [],
   "source": [
    "!qstat"
   ]
  },
  {
   "cell_type": "markdown",
   "metadata": {},
   "source": [
    "### If the job status is finished, check the TF version installed from content of the output file."
   ]
  },
  {
   "cell_type": "code",
   "execution_count": null,
   "metadata": {},
   "outputs": [],
   "source": [
    "!cat setupenv.sh.e*"
   ]
  },
  {
   "cell_type": "markdown",
   "metadata": {},
   "source": [
    "### Close this Notebook if Proper version of Tensorflow is installed "
   ]
  }
 ],
 "metadata": {
  "kernelspec": {
   "name": "opentf"
  },
  "language_info": {
   "codemirror_mode": {
    "name": "ipython",
    "version": 3
   },
   "file_extension": ".py",
   "mimetype": "text/x-python",
   "name": "python",
   "nbconvert_exporter": "python",
   "pygments_lexer": "ipython3",
   "version": "3.7.7"
  }
 },
 "nbformat": 4,
 "nbformat_minor": 4
}
