{
 "cells": [
  {
   "cell_type": "markdown",
   "metadata": {},
   "source": [
    "# Run Resnet50 Inference benchmarks on OpneVINO with synthetic data"
   ]
  },
  {
   "cell_type": "markdown",
   "metadata": {},
   "source": [
    "### Write benchmark commands into a file benchmark_openvino-rn50.sh"
   ]
  },
  {
   "cell_type": "code",
   "execution_count": null,
   "metadata": {},
   "outputs": [],
   "source": [
    "%cd"
   ]
  },
  {
   "cell_type": "code",
   "execution_count": null,
   "metadata": {},
   "outputs": [],
   "source": [
    "%%writefile benchmark_openvino-rn50.sh\n",
    "lscpu\n",
    "# activate opensource tf environment\n",
    "source ~/opentfov/bin/activate\n",
    "source  /opt/intel/openvino/bin/setupvars.sh\n",
    "# get trained model from intel repo\n",
    "cd ~/oneapi_workshop\n",
    "wget https://download.01.org/opencv/public_models/012020/resnet-50-tf/resnet_v1-50.pb\n",
    "#convert the tensorflow model to openVINO format\n",
    "python3 /opt/intel/openvino/deployment_tools/model_optimizer/mo_tf.py --input_shape=[1,224,224,3] --mean_values=[123.68,116.78,103.94] --input=map/TensorArrayStack/TensorArrayGatherV3 --output=softmax_tensor --input_model=$HOME/oneapi_workshop/resnet_v1-50.pb --reverse_input_channels\n",
    "# run openVINO benchmarks\n",
    "# run for batch size 1 and 1 stream and notedown FPS\n",
    "$HOME/oneapi_workshop/samples/intel64/Release/benchmark_app -m $HOME/oneapi_workshop/resnet_v1-50.xml -nstreams 1 -niter 100 -b 1\n",
    "# run for batch size 1 and 4 streams and notedown FPS\n",
    "$HOME/oneapi_workshop/samples/intel64/Release/benchmark_app -m $HOME/oneapi_workshop/resnet_v1-50.xml -nstreams 4 -niter 100 -b 1\n",
    "# run for batch size 16 and 1 stream and notedown FPS\n",
    "$HOME/oneapi_workshop/samples/intel64/Release/benchmark_app -m $HOME/oneapi_workshop/resnet_v1-50.xml -nstreams 1 -niter 100 -b 16\n",
    "# run for batch size 16 and 4 streams and notedown FPS\n",
    "$HOME/oneapi_workshop/samples/intel64/Release/benchmark_app -m $HOME/oneapi_workshop/resnet_v1-50.xml -nstreams 4 -niter 100 -b 16\n",
    "deactivate"
   ]
  },
  {
   "cell_type": "markdown",
   "metadata": {},
   "source": [
    "### Check content of benchmark_inteltf.sh"
   ]
  },
  {
   "cell_type": "code",
   "execution_count": null,
   "metadata": {},
   "outputs": [],
   "source": [
    "!cat benchmark_openvino-rn50.sh"
   ]
  },
  {
   "cell_type": "markdown",
   "metadata": {},
   "source": [
    "### Optional step : Remove all old output files"
   ]
  },
  {
   "cell_type": "code",
   "execution_count": null,
   "metadata": {},
   "outputs": [],
   "source": [
    "!rm -rf benchmark_openvino-rn50.sh.*"
   ]
  },
  {
   "cell_type": "markdown",
   "metadata": {},
   "source": [
    "### Submit to queue."
   ]
  },
  {
   "cell_type": "code",
   "execution_count": null,
   "metadata": {},
   "outputs": [],
   "source": [
    "!qsub benchmark_openvino-rn50.sh -l nodes=1:ppn=2 -d ."
   ]
  },
  {
   "cell_type": "markdown",
   "metadata": {},
   "source": [
    "### check job status"
   ]
  },
  {
   "cell_type": "code",
   "execution_count": null,
   "metadata": {},
   "outputs": [],
   "source": [
    "!qstat"
   ]
  },
  {
   "cell_type": "markdown",
   "metadata": {},
   "source": [
    "### If the job status is finished, check the the output file with proper output name."
   ]
  },
  {
   "cell_type": "code",
   "execution_count": null,
   "metadata": {},
   "outputs": [],
   "source": [
    "!cat benchmark_openvino-rn50.sh.o*"
   ]
  },
  {
   "cell_type": "markdown",
   "metadata": {},
   "source": [
    "### Notedown the number of images/sec for training and inference"
   ]
  },
  {
   "cell_type": "code",
   "execution_count": null,
   "metadata": {},
   "outputs": [],
   "source": [
    "!grep -e \"Xeon\" -e \"batch size\" -e \"inference requests\" -e \"Throughput\"  benchmark_openvino-rn50.sh.o*"
   ]
  },
  {
   "cell_type": "markdown",
   "metadata": {},
   "source": [
    "### close the notebook"
   ]
  }
 ],
 "metadata": {
  "kernelspec": {
   "display_name": "Python 3.7 (Intel® oneAPI)",
   "language": "python",
   "name": "c009-intel_distribution_of_python_3_oneapi-beta05-python"
  },
  "language_info": {
   "codemirror_mode": {
    "name": "ipython",
    "version": 3
   },
   "file_extension": ".py",
   "mimetype": "text/x-python",
   "name": "python",
   "nbconvert_exporter": "python",
   "pygments_lexer": "ipython3",
   "version": "3.7.9"
  }
 },
 "nbformat": 4,
 "nbformat_minor": 4
}
