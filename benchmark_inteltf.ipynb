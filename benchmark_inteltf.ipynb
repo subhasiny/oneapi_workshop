{
 "cells": [
  {
   "cell_type": "markdown",
   "metadata": {},
   "source": [
    "# Run Resnet50 benchmarks on Intel Optimized tensorflow with synthetic data"
   ]
  },
  {
   "cell_type": "markdown",
   "metadata": {},
   "source": [
    "### Skip this step if the benchmarks are already downloaded as part of openTF benchmarking"
   ]
  },
  {
   "cell_type": "code",
   "execution_count": 1,
   "metadata": {},
   "outputs": [
    {
     "name": "stdout",
     "output_type": "stream",
     "text": [
      "fatal: destination path 'benchmarks' already exists and is not an empty directory.\n",
      "/home/u51715/benchmarks\n",
      "Already on 'cnn_tf_v2.1_compatible'\n",
      "Your branch is up to date with 'origin/cnn_tf_v2.1_compatible'.\n",
      "/home/u51715\n"
     ]
    }
   ],
   "source": [
    "!git clone https://github.com/tensorflow/benchmarks.git\n",
    "### checkout compatible benchmarks version\n",
    "%cd benchmarks\n",
    "!git checkout cnn_tf_v2.1_compatible\n",
    "%cd"
   ]
  },
  {
   "cell_type": "markdown",
   "metadata": {},
   "source": [
    "### Write benchmark commands into a file benchmark_inteltf.sh"
   ]
  },
  {
   "cell_type": "code",
   "execution_count": 2,
   "metadata": {},
   "outputs": [
    {
     "name": "stdout",
     "output_type": "stream",
     "text": [
      "Writing benchmark_inteltf.sh\n"
     ]
    }
   ],
   "source": [
    "%%writefile benchmark_inteltf.sh\n",
    "# activate opensource tf environment\n",
    "source activate tensorflow\n",
    "#check tensorflow version\n",
    "python -c \"import tensorflow; print('Tensorflow ',tensorflow.__version__, 'installed successfully')\"\n",
    "#get number of cores\n",
    "export NUM_CORES=$(nproc)\n",
    "# Print number of cores\n",
    "echo $NUM_CORES\n",
    "# run training benchmarks\n",
    "python ~/benchmarks/scripts/tf_cnn_benchmarks/tf_cnn_benchmarks.py --model resnet50 --batch_size 16 --mkl --num_inter_threads $NUM_CORES --num_inter_threads 1 --kmp_blocktime 1  --data_format NHWC\n",
    "# run Inference benchmarks\n",
    "python ~/benchmarks/scripts/tf_cnn_benchmarks/tf_cnn_benchmarks.py --model resnet50 --batch_size 16 --mkl --num_inter_threads $NUM_CORES --num_inter_threads 1 --kmp_blocktime 1  --data_format NHWC --forward_only"
   ]
  },
  {
   "cell_type": "markdown",
   "metadata": {},
   "source": [
    "### Check content of benchmark_inteltf.sh"
   ]
  },
  {
   "cell_type": "code",
   "execution_count": 3,
   "metadata": {},
   "outputs": [
    {
     "name": "stdout",
     "output_type": "stream",
     "text": [
      "# activate opensource tf environment\n",
      "source activate tensorflow\n",
      "#check tensorflow version\n",
      "python -c \"import tensorflow; print('Tensorflow ',tensorflow.__version__, 'installed successfully')\"\n",
      "#get number of cores\n",
      "export NUM_CORES=$(nproc)\n",
      "# Print number of cores\n",
      "echo $NUM_CORES\n",
      "# run training benchmarks\n",
      "python ~/benchmarks/scripts/tf_cnn_benchmarks/tf_cnn_benchmarks.py --model resnet50 --batch_size 16 --mkl --num_inter_threads $NUM_CORES --num_inter_threads 1 --kmp_blocktime 1  --data_format NHWC\n",
      "# run Inference benchmarks\n",
      "python ~/benchmarks/scripts/tf_cnn_benchmarks/tf_cnn_benchmarks.py --model resnet50 --batch_size 16 --mkl --num_inter_threads $NUM_CORES --num_inter_threads 1 --kmp_blocktime 1  --data_format NHWC --forward_only\n"
     ]
    }
   ],
   "source": [
    "!cat benchmark_inteltf.sh"
   ]
  },
  {
   "cell_type": "markdown",
   "metadata": {},
   "source": [
    "### Optional step : Remove all old output files"
   ]
  },
  {
   "cell_type": "code",
   "execution_count": 4,
   "metadata": {},
   "outputs": [],
   "source": [
    "!rm -rf benchmark_inteltf.sh.*"
   ]
  },
  {
   "cell_type": "markdown",
   "metadata": {},
   "source": [
    "### Submit to queue. you can use 'skl' or 'cfl' instead of 'clx' in the below command to get some other server"
   ]
  },
  {
   "cell_type": "code",
   "execution_count": 5,
   "metadata": {},
   "outputs": [
    {
     "name": "stdout",
     "output_type": "stream",
     "text": [
      "751700.v-qsvr-1.aidevcloud\n"
     ]
    }
   ],
   "source": [
    "!qsub benchmark_inteltf.sh -l nodes=1:clx:ppn=2 -d ."
   ]
  },
  {
   "cell_type": "markdown",
   "metadata": {},
   "source": [
    "### check job status"
   ]
  },
  {
   "cell_type": "code",
   "execution_count": 10,
   "metadata": {},
   "outputs": [
    {
     "name": "stdout",
     "output_type": "stream",
     "text": [
      "Job ID                    Name             User            Time Use S Queue\n",
      "------------------------- ---------------- --------------- -------- - -----\n",
      "751488.v-qsvr-1            ...ub-singleuser u51715          00:06:01 R jupyterhub     \n",
      "751700.v-qsvr-1            ...rk_inteltf.sh u51715          00:01:05 R batch          \n"
     ]
    }
   ],
   "source": [
    "!qstat"
   ]
  },
  {
   "cell_type": "markdown",
   "metadata": {},
   "source": [
    "### If the job status is finished, check the the output file with proper output name."
   ]
  },
  {
   "cell_type": "code",
   "execution_count": 8,
   "metadata": {},
   "outputs": [
    {
     "name": "stdout",
     "output_type": "stream",
     "text": [
      "cat: 'benchmark_inteltf.sh.o*': No such file or directory\n"
     ]
    }
   ],
   "source": [
    "!cat benchmark_inteltf.sh.o*"
   ]
  },
  {
   "cell_type": "markdown",
   "metadata": {},
   "source": [
    "### Notedown the number of images/sec for training and inference"
   ]
  },
  {
   "cell_type": "code",
   "execution_count": 9,
   "metadata": {},
   "outputs": [
    {
     "name": "stdout",
     "output_type": "stream",
     "text": [
      "grep: benchmark_inteltf.sh.o*: No such file or directory\n"
     ]
    }
   ],
   "source": [
    "!grep -e \"Mode\" -e \"total images\"  benchmark_inteltf.sh.o*"
   ]
  },
  {
   "cell_type": "markdown",
   "metadata": {},
   "source": [
    "### close the notebook"
   ]
  }
 ],
 "metadata": {
  "kernelspec": {
   "display_name": "Python 3.7 (Intel® oneAPI)",
   "language": "python",
   "name": "c009-intel_distribution_of_python_3_oneapi-beta05-python"
  },
  "language_info": {
   "codemirror_mode": {
    "name": "ipython",
    "version": 3
   },
   "file_extension": ".py",
   "mimetype": "text/x-python",
   "name": "python",
   "nbconvert_exporter": "python",
   "pygments_lexer": "ipython3",
   "version": "3.7.7"
  }
 },
 "nbformat": 4,
 "nbformat_minor": 4
}
